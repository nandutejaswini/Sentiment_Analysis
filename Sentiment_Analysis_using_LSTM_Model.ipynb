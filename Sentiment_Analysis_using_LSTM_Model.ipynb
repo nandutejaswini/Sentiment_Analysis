{
 "cells": [
  {
   "cell_type": "markdown",
   "metadata": {
    "id": "bjnEJ76-vluX"
   },
   "source": [
    "## Sentiment Classification"
   ]
  },
  {
   "cell_type": "markdown",
   "metadata": {
    "id": "Fa6W7njevjnY"
   },
   "source": [
    "Sentiment classification automates the task of detecting and categorizing emotions in text into positive, negative, or neutral categories, based on the expressed opinions. This process, which leverages Natural Language Processing (NLP), is crucial for understanding customer perceptions and emotions about your brand, products, and services.\n",
    "\n",
    "Manually sifting through and categorizing textual data is time-consuming and can distract from capturing key insights due to the tedious nature of manual analysis of positive and negative sentiments.\n",
    "\n",
    "In recent years, sentiment classification has experienced significant growth and adoption across various industries. Many companies now rely on this technology to gain deeper insights into their customers’ emotions, behaviors, preferences, and needs.\n",
    "\n",
    "Automated classification techniques allow for quicker analysis of reviews, comments, survey responses, and other forms of public feedback. These methods efficiently assess the general sentiment towards your brand and products, providing valuable insights into broader industry trends and market dynamics."
   ]
  },
  {
   "cell_type": "markdown",
   "metadata": {
    "id": "r2NPAI4jZZgi"
   },
   "source": [
    "### Recurrent Neural Network (RNN)"
   ]
  },
  {
   "cell_type": "markdown",
   "metadata": {
    "id": "h7znelX-BRG1"
   },
   "source": [
    "A recurrent neural network (RNN) is particularly effective with sequential data, making it well-suited for processing text, which inherently consists of word sequences. In this context, we'll employ an LSTM (Long Short-Term Memory) network, a specialized form of RNN, to tackle a sentiment classification challenge using movie reviews.\n",
    "\n",
    "An LSTM unit is composed of a cell and three gates: an input gate, an output gate, and a forget gate. The cell is capable of maintaining information over extended periods, while the gates control the flow of information into and out of the cell, helping manage memory in the network.\n",
    "\n",
    "LSTM networks are ideal for handling classification tasks involving time series data and are adept at overcoming issues like exploding and vanishing gradients, which are common pitfalls in training conventional RNNs.\n",
    "\n",
    "<img style=\"-webkit-user-select: none;margin: auto;\" src=\"RNN.png\" width=\"500\" height=\"250\">\n",
    "\n",
    "\n",
    "\n",
    "\n",
    "\n",
    "\n"
   ]
  },
  {
   "cell_type": "markdown",
   "metadata": {
    "id": "25xeb09mMs0B"
   },
   "source": [
    "## Dataset Description\n",
    "\n",
    "The dataset used in this experiment is the [IMDB movie review](http://ai.stanford.edu/~amaas/data/sentiment/) dataset. This dataset for binary sentiment classification contains around 50k movie reviews with the following attributes:\n",
    "\n",
    "* **review:** text based review of each movie\n",
    "* **sentiment:** positive or negative sentiment value\n"
   ]
  },
  {
   "cell_type": "markdown",
   "metadata": {
    "id": "xsNHe5o5rLbc"
   },
   "source": [
    "### Importing Required Libraries"
   ]
  },
  {
   "cell_type": "code",
   "execution_count": 41,
   "metadata": {
    "colab": {
     "base_uri": "https://localhost:8080/"
    },
    "id": "sdz-3IanrBiU",
    "outputId": "02dfbdba-9d7f-4904-8c04-1cc46d6a1f91"
   },
   "outputs": [
    {
     "name": "stderr",
     "output_type": "stream",
     "text": [
      "[nltk_data] Downloading package stopwords to\n",
      "[nltk_data]     C:\\Users\\nandu\\AppData\\Roaming\\nltk_data...\n",
      "[nltk_data]   Package stopwords is already up-to-date!\n",
      "[nltk_data] Downloading package punkt to\n",
      "[nltk_data]     C:\\Users\\nandu\\AppData\\Roaming\\nltk_data...\n",
      "[nltk_data]   Package punkt is already up-to-date!\n"
     ]
    }
   ],
   "source": [
    "import numpy as np\n",
    "import pandas as pd\n",
    "import seaborn as sns\n",
    "import matplotlib.pyplot as plt\n",
    "import re\n",
    "import nltk\n",
    "nltk.download('stopwords')\n",
    "nltk.download('punkt')\n",
    "from nltk.corpus import stopwords\n",
    "from bs4 import BeautifulSoup          # BeautifulSoup is a useful library for extracting data from HTML and XML documents\n",
    "from numpy import array\n",
    "from tensorflow.keras.preprocessing.sequence import pad_sequences\n",
    "from keras.layers import Activation, Dropout\n",
    "from sklearn.model_selection import train_test_split\n",
    "from tensorflow.keras.preprocessing.text import one_hot, Tokenizer\n",
    "from tensorflow.keras.models import Sequential\n",
    "from tensorflow.keras.layers import Flatten, GlobalMaxPooling1D, Dense, Embedding, LSTM, GRU\n",
    "import pandas.testing as tm"
   ]
  },
  {
   "cell_type": "markdown",
   "metadata": {
    "id": "vr6UWiG3TiQQ"
   },
   "source": [
    "### Load the Dataset"
   ]
  },
  {
   "cell_type": "code",
   "execution_count": 42,
   "metadata": {
    "id": "isAjVCBPTkeb"
   },
   "outputs": [],
   "source": [
    "movie_reviews = pd.read_csv(\"IMDB_Dataset.csv\")"
   ]
  },
  {
   "cell_type": "markdown",
   "metadata": {
    "id": "tCxk7XF9TpZK"
   },
   "source": [
    "### Exploratory Data Analysis"
   ]
  },
  {
   "cell_type": "code",
   "execution_count": 43,
   "metadata": {
    "colab": {
     "base_uri": "https://localhost:8080/"
    },
    "id": "hugGYeiJFPEa",
    "outputId": "59ba7c0d-bb2b-49c5-dce1-21341abf8246"
   },
   "outputs": [
    {
     "data": {
      "text/plain": [
       "(50000, 2)"
      ]
     },
     "execution_count": 43,
     "metadata": {},
     "output_type": "execute_result"
    }
   ],
   "source": [
    "# Check the shape of the data\n",
    "movie_reviews.shape"
   ]
  },
  {
   "cell_type": "code",
   "execution_count": 44,
   "metadata": {
    "colab": {
     "base_uri": "https://localhost:8080/",
     "height": 206
    },
    "id": "HAPgZcouFRwF",
    "outputId": "dcf4afa6-8f74-4d8a-9310-ac538437efb1"
   },
   "outputs": [
    {
     "data": {
      "text/html": [
       "<div>\n",
       "<style scoped>\n",
       "    .dataframe tbody tr th:only-of-type {\n",
       "        vertical-align: middle;\n",
       "    }\n",
       "\n",
       "    .dataframe tbody tr th {\n",
       "        vertical-align: top;\n",
       "    }\n",
       "\n",
       "    .dataframe thead th {\n",
       "        text-align: right;\n",
       "    }\n",
       "</style>\n",
       "<table border=\"1\" class=\"dataframe\">\n",
       "  <thead>\n",
       "    <tr style=\"text-align: right;\">\n",
       "      <th></th>\n",
       "      <th>review</th>\n",
       "      <th>sentiment</th>\n",
       "    </tr>\n",
       "  </thead>\n",
       "  <tbody>\n",
       "    <tr>\n",
       "      <th>0</th>\n",
       "      <td>One of the other reviewers has mentioned that ...</td>\n",
       "      <td>positive</td>\n",
       "    </tr>\n",
       "    <tr>\n",
       "      <th>1</th>\n",
       "      <td>A wonderful little production. &lt;br /&gt;&lt;br /&gt;The...</td>\n",
       "      <td>positive</td>\n",
       "    </tr>\n",
       "    <tr>\n",
       "      <th>2</th>\n",
       "      <td>I thought this was a wonderful way to spend ti...</td>\n",
       "      <td>positive</td>\n",
       "    </tr>\n",
       "    <tr>\n",
       "      <th>3</th>\n",
       "      <td>Basically there's a family where a little boy ...</td>\n",
       "      <td>negative</td>\n",
       "    </tr>\n",
       "    <tr>\n",
       "      <th>4</th>\n",
       "      <td>Petter Mattei's \"Love in the Time of Money\" is...</td>\n",
       "      <td>positive</td>\n",
       "    </tr>\n",
       "  </tbody>\n",
       "</table>\n",
       "</div>"
      ],
      "text/plain": [
       "                                              review sentiment\n",
       "0  One of the other reviewers has mentioned that ...  positive\n",
       "1  A wonderful little production. <br /><br />The...  positive\n",
       "2  I thought this was a wonderful way to spend ti...  positive\n",
       "3  Basically there's a family where a little boy ...  negative\n",
       "4  Petter Mattei's \"Love in the Time of Money\" is...  positive"
      ]
     },
     "execution_count": 44,
     "metadata": {},
     "output_type": "execute_result"
    }
   ],
   "source": [
    "movie_reviews.head()"
   ]
  },
  {
   "cell_type": "code",
   "execution_count": 45,
   "metadata": {
    "colab": {
     "base_uri": "https://localhost:8080/"
    },
    "id": "c1WkftXKEzbX",
    "outputId": "4fc632eb-7b3b-4ff8-9975-eac12c8504f7"
   },
   "outputs": [
    {
     "data": {
      "text/plain": [
       "review       0\n",
       "sentiment    0\n",
       "dtype: int64"
      ]
     },
     "execution_count": 45,
     "metadata": {},
     "output_type": "execute_result"
    }
   ],
   "source": [
    "# Check for null Values\n",
    "movie_reviews.isnull().sum()"
   ]
  },
  {
   "cell_type": "code",
   "execution_count": 46,
   "metadata": {
    "colab": {
     "base_uri": "https://localhost:8080/",
     "height": 90
    },
    "id": "Ol2PIDSMtCwN",
    "outputId": "c7dc014a-4c1e-4b9a-feb1-80f20389c86a"
   },
   "outputs": [
    {
     "data": {
      "text/plain": [
       "'Probably my all-time favorite movie, a story of selflessness, sacrifice and dedication to a noble cause, but it\\'s not preachy or boring. It just never gets old, despite my having seen it some 15 or more times in the last 25 years. Paul Lukas\\' performance brings tears to my eyes, and Bette Davis, in one of her very few truly sympathetic roles, is a delight. The kids are, as grandma says, more like \"dressed-up midgets\" than children, but that only makes them more fun to watch. And the mother\\'s slow awakening to what\\'s happening in the world and under her own roof is believable and startling. If I had a dozen thumbs, they\\'d all be \"up\" for this movie.'"
      ]
     },
     "execution_count": 46,
     "metadata": {},
     "output_type": "execute_result"
    }
   ],
   "source": [
    "# Let us view one of the reviews\n",
    "movie_reviews[\"review\"][5]"
   ]
  },
  {
   "cell_type": "code",
   "execution_count": 47,
   "metadata": {
    "colab": {
     "base_uri": "https://localhost:8080/",
     "height": 449
    },
    "id": "bE8gHVXNtbP_",
    "outputId": "54898a6d-96c3-4560-8075-04a8dd8cc775"
   },
   "outputs": [
    {
     "data": {
      "image/png": "[encoded data removed]",
      "text/plain": [
       "<Figure size 640x480 with 1 Axes>"
      ]
     },
     "metadata": {},
     "output_type": "display_data"
    }
   ],
   "source": [
    "# View the distribution of positive and negative sentiments in the dataset\n",
    "sns.countplot(x='sentiment', data = movie_reviews)\n",
    "plt.show()"
   ]
  },
  {
   "cell_type": "markdown",
   "metadata": {
    "id": "O8fxwWFdt2au"
   },
   "source": [
    "We can see above that there are an equal number of positive and negative sentiment reviews in the dataset."
   ]
  },
  {
   "cell_type": "markdown",
   "metadata": {
    "id": "eMIU5YtCv0k8"
   },
   "source": [
    "## Data Preprocessing\n",
    "\n",
    "Remove any html tags, punctuations, special characters, stopwords etc. from the review text."
   ]
  },
  {
   "cell_type": "markdown",
   "metadata": {
    "id": "xO6NJI2_ijHe"
   },
   "source": [
    "- **Remove HTML, XML, etc.**\n"
   ]
  },
  {
   "cell_type": "code",
   "execution_count": 48,
   "metadata": {
    "id": "B9MLaMGFinu4"
   },
   "outputs": [],
   "source": [
    "# removing the html strips\n",
    "def strip_html(text):\n",
    "    # BeautifulSoup is a useful library for extracting data from HTML and XML documents\n",
    "    soup = BeautifulSoup(text, \"html.parser\")\n",
    "    return soup.get_text()"
   ]
  },
  {
   "cell_type": "code",
   "execution_count": 49,
   "metadata": {
    "colab": {
     "base_uri": "https://localhost:8080/"
    },
    "id": "fzTGKf_Rz3il",
    "outputId": "59b72f19-0a87-4ea5-e80e-de08e4f913a5"
   },
   "outputs": [
    {
     "name": "stderr",
     "output_type": "stream",
     "text": [
      "C:\\Users\\nandu\\anaconda3\\envs\\eee4773\\lib\\site-packages\\bs4\\__init__.py:435: MarkupResemblesLocatorWarning: The input looks more like a filename than markup. You may want to open this file and pass the filehandle into Beautiful Soup.\n",
      "  warnings.warn(\n"
     ]
    }
   ],
   "source": [
    "movie_reviews['review'] = movie_reviews['review'].apply(strip_html)"
   ]
  },
  {
   "cell_type": "code",
   "execution_count": 53,
   "metadata": {},
   "outputs": [
    {
     "data": {
      "text/plain": [
       "'Probably my alltime favorite movie story of selflessness sacrifice and dedication to noble cause but its not preachy or boring It just never gets old despite my having seen it some 15 or more times in the last 25 years Paul Lukas performance brings tears to my eyes and Bette Davis in one of her very few truly sympathetic roles is delight The kids are as grandma says more like dressedup midgets than children but that only makes them more fun to watch And the mothers slow awakening to whats happening in the world and under her own roof is believable and startling If had dozen thumbs theyd all be up for this movie'"
      ]
     },
     "execution_count": 53,
     "metadata": {},
     "output_type": "execute_result"
    }
   ],
   "source": [
    "# Let us view one of the reviews\n",
    "movie_reviews[\"review\"][5]"
   ]
  },
  {
   "cell_type": "markdown",
   "metadata": {
    "id": "HkJ_4icciuUo"
   },
   "source": [
    "- **Remove punctuations**"
   ]
  },
  {
   "cell_type": "code",
   "execution_count": 54,
   "metadata": {
    "id": "oOeRCqY5i0DS"
   },
   "outputs": [],
   "source": [
    "# removing punctuations\n",
    "def remove_punctuations(text):\n",
    "\n",
    "    pattern = r'[^a-zA-Z0-9\\s]'\n",
    "    text = re.sub(pattern,'',text)\n",
    "\n",
    "    # Single character removal\n",
    "    text = re.sub(r\"\\s+[a-zA-Z]\\s+\", ' ', text)\n",
    "\n",
    "    # Removing multiple spaces\n",
    "    text = re.sub(r'\\s+', ' ', text)\n",
    "\n",
    "    return text"
   ]
  },
  {
   "cell_type": "code",
   "execution_count": 55,
   "metadata": {
    "id": "DyvLwuQm06rG"
   },
   "outputs": [],
   "source": [
    "# Remove puntuations\n",
    "movie_reviews['review'] = movie_reviews['review'].apply(remove_punctuations)"
   ]
  },
  {
   "cell_type": "code",
   "execution_count": 56,
   "metadata": {},
   "outputs": [
    {
     "data": {
      "text/plain": [
       "'Probably my alltime favorite movie story of selflessness sacrifice and dedication to noble cause but its not preachy or boring It just never gets old despite my having seen it some 15 or more times in the last 25 years Paul Lukas performance brings tears to my eyes and Bette Davis in one of her very few truly sympathetic roles is delight The kids are as grandma says more like dressedup midgets than children but that only makes them more fun to watch And the mothers slow awakening to whats happening in the world and under her own roof is believable and startling If had dozen thumbs theyd all be up for this movie'"
      ]
     },
     "execution_count": 56,
     "metadata": {},
     "output_type": "execute_result"
    }
   ],
   "source": [
    "# Let us view one of the reviews\n",
    "movie_reviews[\"review\"][5]"
   ]
  },
  {
   "cell_type": "markdown",
   "metadata": {
    "id": "omeXdqsFHm1M"
   },
   "source": [
    "**Removing stopwords**\n",
    "\n",
    "Stopwords are English words that do not add much meaning to a sentence. They can safely be ignored without sacrificing the meaning of the sentence. For example, the words like the, he, have etc."
   ]
  },
  {
   "cell_type": "code",
   "execution_count": 57,
   "metadata": {
    "colab": {
     "base_uri": "https://localhost:8080/"
    },
    "id": "mgIjbfZgEgNH",
    "outputId": "0d44b968-168c-4db8-ce7a-a6af5eb71eb3"
   },
   "outputs": [
    {
     "name": "stdout",
     "output_type": "stream",
     "text": [
      "['i', 'me', 'my', 'myself', 'we', 'our', 'ours', 'ourselves', 'you', \"you're\", \"you've\", \"you'll\", \"you'd\", 'your', 'yours', 'yourself', 'yourselves', 'he', 'him', 'his', 'himself', 'she', \"she's\", 'her', 'hers', 'herself', 'it', \"it's\", 'its', 'itself', 'they', 'them', 'their', 'theirs', 'themselves', 'what', 'which', 'who', 'whom', 'this', 'that', \"that'll\", 'these', 'those', 'am', 'is', 'are', 'was', 'were', 'be', 'been', 'being', 'have', 'has', 'had', 'having', 'do', 'does', 'did', 'doing', 'a', 'an', 'the', 'and', 'but', 'if', 'or', 'because', 'as', 'until', 'while', 'of', 'at', 'by', 'for', 'with', 'about', 'against', 'between', 'into', 'through', 'during', 'before', 'after', 'above', 'below', 'to', 'from', 'up', 'down', 'in', 'out', 'on', 'off', 'over', 'under', 'again', 'further', 'then', 'once', 'here', 'there', 'when', 'where', 'why', 'how', 'all', 'any', 'both', 'each', 'few', 'more', 'most', 'other', 'some', 'such', 'no', 'nor', 'not', 'only', 'own', 'same', 'so', 'than', 'too', 'very', 's', 't', 'can', 'will', 'just', 'don', \"don't\", 'should', \"should've\", 'now', 'd', 'll', 'm', 'o', 're', 've', 'y', 'ain', 'aren', \"aren't\", 'couldn', \"couldn't\", 'didn', \"didn't\", 'doesn', \"doesn't\", 'hadn', \"hadn't\", 'hasn', \"hasn't\", 'haven', \"haven't\", 'isn', \"isn't\", 'ma', 'mightn', \"mightn't\", 'mustn', \"mustn't\", 'needn', \"needn't\", 'shan', \"shan't\", 'shouldn', \"shouldn't\", 'wasn', \"wasn't\", 'weren', \"weren't\", 'won', \"won't\", 'wouldn', \"wouldn't\"]\n"
     ]
    }
   ],
   "source": [
    "# setting english stopwords\n",
    "stopword_list = nltk.corpus.stopwords.words('english')\n",
    "print(stopword_list)"
   ]
  },
  {
   "cell_type": "markdown",
   "metadata": {
    "id": "Jacr7HAjfILU"
   },
   "source": [
    "The above list of stopwords also contains the word \"not\", and its other forms such as don't, didn't, etc. We need them for correct sentiment classification.\n",
    "\n",
    "For example, consider a negative review \"*not a good movie*\", and if we remove 'not' from it then it becomes a positive review \"*a good movie*\"."
   ]
  },
  {
   "cell_type": "code",
   "execution_count": 58,
   "metadata": {
    "colab": {
     "base_uri": "https://localhost:8080/"
    },
    "id": "U1uSxBepgdsE",
    "outputId": "b6b691d5-a5ca-4202-e431-977db15e4613"
   },
   "outputs": [
    {
     "name": "stdout",
     "output_type": "stream",
     "text": [
      "['i', 'me', 'my', 'myself', 'we', 'our', 'ours', 'ourselves', 'you', \"you're\", \"you've\", \"you'll\", \"you'd\", 'your', 'yours', 'yourself', 'yourselves', 'he', 'him', 'his', 'himself', 'she', \"she's\", 'her', 'hers', 'herself', 'it', \"it's\", 'its', 'itself', 'they', 'them', 'their', 'theirs', 'themselves', 'what', 'which', 'who', 'whom', 'this', 'that', \"that'll\", 'these', 'those', 'am', 'is', 'are', 'was', 'were', 'be', 'been', 'being', 'have', 'has', 'had', 'having', 'do', 'does', 'did', 'doing', 'a', 'an', 'the', 'and', 'but', 'if', 'or', 'because', 'as', 'until', 'while', 'of', 'at', 'by', 'for', 'with', 'about', 'against', 'between', 'into', 'through', 'during', 'before', 'after', 'above', 'below', 'to', 'from', 'up', 'down', 'in', 'out', 'on', 'off', 'over', 'under', 'again', 'further', 'then', 'once', 'here', 'there', 'when', 'where', 'why', 'how', 'all', 'any', 'both', 'each', 'few', 'more', 'most', 'other', 'some', 'such', 'no', 'nor', 'only', 'own', 'same', 'so', 'than', 'too', 'very', 's', 't', 'can', 'will', 'just', 'don', 'should', \"should've\", 'now', 'd', 'll', 'm', 'o', 're', 've', 'y', 'ain', 'aren', 'couldn', 'didn', 'doesn', 'hadn', 'hasn', 'haven', 'isn', 'ma', 'mightn', 'mustn', 'needn', 'shan', 'shouldn', 'wasn', 'weren', 'won', 'wouldn']\n"
     ]
    }
   ],
   "source": [
    "# Exclude 'not' and its other forms from the stopwords list\n",
    "\n",
    "updated_stopword_list = []\n",
    "\n",
    "for word in stopword_list:\n",
    "    if word=='not' or word.endswith(\"n't\"):\n",
    "        pass\n",
    "    else:\n",
    "        updated_stopword_list.append(word)\n",
    "\n",
    "print(updated_stopword_list)"
   ]
  },
  {
   "cell_type": "code",
   "execution_count": 59,
   "metadata": {
    "id": "9fH5HXfk8OJj"
   },
   "outputs": [],
   "source": [
    "# removing the stopwords\n",
    "def remove_stopwords(text, is_lower_case=False):\n",
    "    # splitting strings into tokens (list of words)\n",
    "    tokens = nltk.tokenize.word_tokenize(text)\n",
    "    tokens = [token.strip() for token in tokens]\n",
    "    if is_lower_case:\n",
    "        # filtering out the stop words\n",
    "        filtered_tokens = [token for token in tokens if token not in updated_stopword_list]\n",
    "    else:\n",
    "        filtered_tokens = [token for token in tokens if token.lower() not in updated_stopword_list]\n",
    "    filtered_text = ' '.join(filtered_tokens)\n",
    "    return filtered_text"
   ]
  },
  {
   "cell_type": "code",
   "execution_count": 60,
   "metadata": {
    "id": "H_OBq2crHXU5"
   },
   "outputs": [],
   "source": [
    "# Apply function on review column\n",
    "movie_reviews['review'] = movie_reviews['review'].apply(remove_stopwords)"
   ]
  },
  {
   "cell_type": "code",
   "execution_count": 61,
   "metadata": {},
   "outputs": [
    {
     "data": {
      "text/plain": [
       "'Probably alltime favorite movie story selflessness sacrifice dedication noble cause not preachy boring never gets old despite seen 15 times last 25 years Paul Lukas performance brings tears eyes Bette Davis one truly sympathetic roles delight kids grandma says like dressedup midgets children makes fun watch mothers slow awakening whats happening world roof believable startling dozen thumbs theyd movie'"
      ]
     },
     "execution_count": 61,
     "metadata": {},
     "output_type": "execute_result"
    }
   ],
   "source": [
    "# Let us view one of the reviews\n",
    "movie_reviews[\"review\"][5]"
   ]
  },
  {
   "cell_type": "code",
   "execution_count": 62,
   "metadata": {
    "colab": {
     "base_uri": "https://localhost:8080/",
     "height": 206
    },
    "id": "b62IdK0fSOEB",
    "outputId": "4448e227-44b6-4dae-c74a-418bc3db81ff"
   },
   "outputs": [
    {
     "data": {
      "text/html": [
       "<div>\n",
       "<style scoped>\n",
       "    .dataframe tbody tr th:only-of-type {\n",
       "        vertical-align: middle;\n",
       "    }\n",
       "\n",
       "    .dataframe tbody tr th {\n",
       "        vertical-align: top;\n",
       "    }\n",
       "\n",
       "    .dataframe thead th {\n",
       "        text-align: right;\n",
       "    }\n",
       "</style>\n",
       "<table border=\"1\" class=\"dataframe\">\n",
       "  <thead>\n",
       "    <tr style=\"text-align: right;\">\n",
       "      <th></th>\n",
       "      <th>review</th>\n",
       "      <th>sentiment</th>\n",
       "    </tr>\n",
       "  </thead>\n",
       "  <tbody>\n",
       "    <tr>\n",
       "      <th>0</th>\n",
       "      <td>One reviewers mentioned watching 1 Oz episode ...</td>\n",
       "      <td>positive</td>\n",
       "    </tr>\n",
       "    <tr>\n",
       "      <th>1</th>\n",
       "      <td>wonderful little production filming technique ...</td>\n",
       "      <td>positive</td>\n",
       "    </tr>\n",
       "    <tr>\n",
       "      <th>2</th>\n",
       "      <td>thought wonderful way spend time hot summer we...</td>\n",
       "      <td>positive</td>\n",
       "    </tr>\n",
       "    <tr>\n",
       "      <th>3</th>\n",
       "      <td>Basically theres family little boy Jake thinks...</td>\n",
       "      <td>negative</td>\n",
       "    </tr>\n",
       "    <tr>\n",
       "      <th>4</th>\n",
       "      <td>Petter Matteis Love Time Money visually stunni...</td>\n",
       "      <td>positive</td>\n",
       "    </tr>\n",
       "  </tbody>\n",
       "</table>\n",
       "</div>"
      ],
      "text/plain": [
       "                                              review sentiment\n",
       "0  One reviewers mentioned watching 1 Oz episode ...  positive\n",
       "1  wonderful little production filming technique ...  positive\n",
       "2  thought wonderful way spend time hot summer we...  positive\n",
       "3  Basically theres family little boy Jake thinks...  negative\n",
       "4  Petter Matteis Love Time Money visually stunni...  positive"
      ]
     },
     "execution_count": 62,
     "metadata": {},
     "output_type": "execute_result"
    }
   ],
   "source": [
    "movie_reviews.head()"
   ]
  },
  {
   "cell_type": "code",
   "execution_count": 63,
   "metadata": {
    "id": "M-kFMtmcv6as"
   },
   "outputs": [],
   "source": [
    "# Convert sentiment labels to integers\n",
    "\n",
    "movie_reviews['sentiment'] = movie_reviews['sentiment'].apply(lambda x: 1 if x==\"positive\" else 0)"
   ]
  },
  {
   "cell_type": "code",
   "execution_count": 64,
   "metadata": {
    "colab": {
     "base_uri": "https://localhost:8080/",
     "height": 206
    },
    "id": "B9tegRL2HCLy",
    "outputId": "fd17468d-351a-4eb4-f1a8-0884baece1bf"
   },
   "outputs": [
    {
     "data": {
      "text/html": [
       "<div>\n",
       "<style scoped>\n",
       "    .dataframe tbody tr th:only-of-type {\n",
       "        vertical-align: middle;\n",
       "    }\n",
       "\n",
       "    .dataframe tbody tr th {\n",
       "        vertical-align: top;\n",
       "    }\n",
       "\n",
       "    .dataframe thead th {\n",
       "        text-align: right;\n",
       "    }\n",
       "</style>\n",
       "<table border=\"1\" class=\"dataframe\">\n",
       "  <thead>\n",
       "    <tr style=\"text-align: right;\">\n",
       "      <th></th>\n",
       "      <th>review</th>\n",
       "      <th>sentiment</th>\n",
       "    </tr>\n",
       "  </thead>\n",
       "  <tbody>\n",
       "    <tr>\n",
       "      <th>0</th>\n",
       "      <td>One reviewers mentioned watching 1 Oz episode ...</td>\n",
       "      <td>1</td>\n",
       "    </tr>\n",
       "    <tr>\n",
       "      <th>1</th>\n",
       "      <td>wonderful little production filming technique ...</td>\n",
       "      <td>1</td>\n",
       "    </tr>\n",
       "    <tr>\n",
       "      <th>2</th>\n",
       "      <td>thought wonderful way spend time hot summer we...</td>\n",
       "      <td>1</td>\n",
       "    </tr>\n",
       "    <tr>\n",
       "      <th>3</th>\n",
       "      <td>Basically theres family little boy Jake thinks...</td>\n",
       "      <td>0</td>\n",
       "    </tr>\n",
       "    <tr>\n",
       "      <th>4</th>\n",
       "      <td>Petter Matteis Love Time Money visually stunni...</td>\n",
       "      <td>1</td>\n",
       "    </tr>\n",
       "  </tbody>\n",
       "</table>\n",
       "</div>"
      ],
      "text/plain": [
       "                                              review  sentiment\n",
       "0  One reviewers mentioned watching 1 Oz episode ...          1\n",
       "1  wonderful little production filming technique ...          1\n",
       "2  thought wonderful way spend time hot summer we...          1\n",
       "3  Basically theres family little boy Jake thinks...          0\n",
       "4  Petter Matteis Love Time Money visually stunni...          1"
      ]
     },
     "execution_count": 64,
     "metadata": {},
     "output_type": "execute_result"
    }
   ],
   "source": [
    "movie_reviews.head()"
   ]
  },
  {
   "cell_type": "code",
   "execution_count": 65,
   "metadata": {
    "colab": {
     "base_uri": "https://localhost:8080/"
    },
    "id": "bLuY71VzwK1A",
    "outputId": "3c11a1c2-bc40-4c5a-f406-f09289e82d06"
   },
   "outputs": [
    {
     "data": {
      "text/plain": [
       "(40000, 10000, 40000, 10000)"
      ]
     },
     "execution_count": 65,
     "metadata": {},
     "output_type": "execute_result"
    }
   ],
   "source": [
    "# Split the dataset into training and testing sets\n",
    "X_train, X_test, y_train, y_test = train_test_split(movie_reviews['review'].values, movie_reviews['sentiment'].values,\n",
    "                                                    test_size=0.20,\n",
    "                                                    random_state=42)\n",
    "len(X_train), len(X_test), len(y_train), len(y_test)"
   ]
  },
  {
   "cell_type": "markdown",
   "metadata": {
    "id": "x6W_D9WnwiR5"
   },
   "source": [
    "## Prepare the Embedding Layer\n",
    "\n",
    "The embedding layer converts our textual data into numeric data and is used as the first layer for the deep learning models in Keras"
   ]
  },
  {
   "cell_type": "code",
   "execution_count": 66,
   "metadata": {
    "id": "iA-C8sYnwyrR"
   },
   "outputs": [],
   "source": [
    "# Tokenizer class from the keras.preprocessing.text module creates a word-to-index dictionary\n",
    "tokenizer = Tokenizer(num_words=5000)\n",
    "tokenizer.fit_on_texts(X_train)\n",
    "\n",
    "X_train_tok = tokenizer.texts_to_sequences(X_train)\n",
    "X_test_tok = tokenizer.texts_to_sequences(X_test)"
   ]
  },
  {
   "cell_type": "markdown",
   "metadata": {
    "id": "f7iUq1nGyOzx"
   },
   "source": [
    "The X_train set contains 40,000 lists of integers, each list corresponding to the sentences in a review. Set the maximum length of each list to 100 and add 0 padding to those lists that have a length $\\lt$100, until they reach a length of 100."
   ]
  },
  {
   "cell_type": "code",
   "execution_count": 67,
   "metadata": {
    "id": "NPEFSkxZxyRJ"
   },
   "outputs": [],
   "source": [
    "# Find the vocabulary size and perform padding on both train and test set\n",
    "vocab_size = len(tokenizer.word_index) + 1\n",
    "\n",
    "maxlen = 100\n",
    "\n",
    "X_train_pad = pad_sequences(X_train_tok, padding='post', maxlen=maxlen, truncating='post')\n",
    "X_test_pad = pad_sequences(X_test_tok, padding='post', maxlen=maxlen, truncating='post')"
   ]
  },
  {
   "cell_type": "code",
   "execution_count": 68,
   "metadata": {
    "colab": {
     "base_uri": "https://localhost:8080/"
    },
    "id": "_T4QtfaB1Ftb",
    "outputId": "d4eb8ec9-39e0-4643-9f86-95527716cf40"
   },
   "outputs": [
    {
     "name": "stdout",
     "output_type": "stream",
     "text": [
      "number of unique words in the corpus: 192022\n"
     ]
    }
   ],
   "source": [
    "print ('number of unique words in the corpus:', vocab_size)"
   ]
  },
  {
   "cell_type": "markdown",
   "metadata": {
    "id": "N6dm4lLnz_TE"
   },
   "source": [
    "### Build LSTM Model for Text classification"
   ]
  },
  {
   "cell_type": "code",
   "execution_count": 69,
   "metadata": {
    "colab": {
     "base_uri": "https://localhost:8080/"
    },
    "id": "XaYKsRLi3Q0F",
    "outputId": "c6ebb45a-6289-41ce-e08d-b2bd45fcc62c"
   },
   "outputs": [
    {
     "name": "stdout",
     "output_type": "stream",
     "text": [
      "Build model...\n",
      "Summary of the built model...\n",
      "Model: \"sequential_1\"\n",
      "_________________________________________________________________\n",
      " Layer (type)                Output Shape              Param #   \n",
      "=================================================================\n",
      " embedding_1 (Embedding)     (None, 100, 32)           6144704   \n",
      "                                                                 \n",
      " lstm_1 (LSTM)               (None, 40)                11680     \n",
      "                                                                 \n",
      " dense_1 (Dense)             (None, 1)                 41        \n",
      "                                                                 \n",
      "=================================================================\n",
      "Total params: 6,156,425\n",
      "Trainable params: 6,156,425\n",
      "Non-trainable params: 0\n",
      "_________________________________________________________________\n",
      "None\n"
     ]
    }
   ],
   "source": [
    "EMBEDDING_DIM = 32\n",
    "\n",
    "print('Build model...')\n",
    "\n",
    "model = Sequential()\n",
    "model.add(Embedding(input_dim = vocab_size, output_dim = EMBEDDING_DIM, input_length=maxlen))\n",
    "model.add(LSTM(units=40,  dropout=0.2, recurrent_dropout=0.2))\n",
    "model.add(Dense(1, activation='sigmoid'))\n",
    "\n",
    "# Try using different optimizers and different optimizer configs\n",
    "model.compile(loss='binary_crossentropy', optimizer='adam', metrics=['accuracy'])\n",
    "\n",
    "print('Summary of the built model...')\n",
    "print(model.summary())"
   ]
  },
  {
   "cell_type": "markdown",
   "metadata": {
    "id": "v1yM4QUJ370N"
   },
   "source": [
    "### Training and Validation"
   ]
  },
  {
   "cell_type": "code",
   "execution_count": 72,
   "metadata": {
    "colab": {
     "base_uri": "https://localhost:8080/"
    },
    "id": "TBo01v6A4KPL",
    "outputId": "0ce046b9-01c4-4502-ef16-722656dac494"
   },
   "outputs": [
    {
     "name": "stdout",
     "output_type": "stream",
     "text": [
      "Epoch 1/3\n",
      "250/250 [==============================] - 28s 105ms/step - loss: 0.4934 - accuracy: 0.7414 - val_loss: 0.3278 - val_accuracy: 0.8674\n",
      "Epoch 2/3\n",
      "250/250 [==============================] - 30s 119ms/step - loss: 0.3026 - accuracy: 0.8804 - val_loss: 0.3169 - val_accuracy: 0.8708\n",
      "Epoch 3/3\n",
      "250/250 [==============================] - 30s 121ms/step - loss: 0.2643 - accuracy: 0.8972 - val_loss: 0.3415 - val_accuracy: 0.8662\n"
     ]
    }
   ],
   "source": [
    "history = model.fit(X_train_pad, y_train, batch_size=128, epochs=3, verbose=1, validation_split=0.2)"
   ]
  },
  {
   "cell_type": "code",
   "execution_count": 73,
   "metadata": {},
   "outputs": [
    {
     "name": "stdout",
     "output_type": "stream",
     "text": [
      "Model saved successfully!\n"
     ]
    }
   ],
   "source": [
    "# Save the model\n",
    "model.save('my_model.h5')\n",
    "\n",
    "print(\"Model saved successfully!\")"
   ]
  },
  {
   "cell_type": "markdown",
   "metadata": {
    "id": "V-eeqc306cjK"
   },
   "source": [
    "### Model Performance"
   ]
  },
  {
   "cell_type": "code",
   "execution_count": 74,
   "metadata": {
    "colab": {
     "base_uri": "https://localhost:8080/"
    },
    "id": "JZoUVfwn6e13",
    "outputId": "9a326c9e-343e-4453-be12-401e4d0672d0"
   },
   "outputs": [
    {
     "name": "stdout",
     "output_type": "stream",
     "text": [
      "Testing...\n",
      "79/79 [==============================] - 1s 18ms/step - loss: 0.3362 - accuracy: 0.8632\n",
      "Test score: 0.33623525500297546\n",
      "Test accuracy: 0.8632000088691711\n",
      "Accuracy: 86.32%\n"
     ]
    }
   ],
   "source": [
    "print('Testing...')\n",
    "y_test = np.array(y_test)\n",
    "score, acc = model.evaluate(X_test_pad, y_test, batch_size=128)\n",
    "\n",
    "print('Test score:', score)\n",
    "print('Test accuracy:', acc)\n",
    "\n",
    "print(\"Accuracy: {0:.2%}\".format(acc))"
   ]
  },
  {
   "cell_type": "markdown",
   "metadata": {
    "id": "M3aV-nGbqwNH"
   },
   "source": [
    "### Predict a few more samples"
   ]
  },
  {
   "cell_type": "code",
   "execution_count": 80,
   "metadata": {},
   "outputs": [
    {
     "name": "stdout",
     "output_type": "stream",
     "text": [
      "1/1 [==============================] - 0s 32ms/step\n",
      "[[0.7644737 ]\n",
      " [0.44086105]\n",
      " [0.76656854]\n",
      " [0.72349924]\n",
      " [0.9164799 ]\n",
      " [0.70296556]\n",
      " [0.5364148 ]\n",
      " [0.88134   ]\n",
      " [0.5911534 ]\n",
      " [0.68513125]]\n"
     ]
    }
   ],
   "source": [
    "# Additional test samples\n",
    "test_samples = [\n",
    "    \"Absolutely loved the cinematography in this film!\",\n",
    "    \"The plot was predictable and boring.\",\n",
    "    \"What an amazing performance by the lead actor!\",\n",
    "    \"I wouldn’t recommend this movie to anyone.\",\n",
    "    \"A delightful gem of a film that brought joy.\",\n",
    "    \"The movie was too long and dragged in the middle.\",\n",
    "    \"An uninspiring script with lackluster direction.\",\n",
    "    \"It’s a masterpiece, with brilliant twists and turns.\",\n",
    "    \"Bad movie!\",\n",
    "    \"Not a good movie!\"\n",
    "]\n",
    "\n",
    "# Tokenize and pad new combined test samples\n",
    "all_test_samples_tokens = tokenizer.texts_to_sequences(test_samples)\n",
    "all_test_samples_tokens_pad = pad_sequences(all_test_samples_tokens, maxlen=maxlen)\n",
    "\n",
    "# Predict sentiments for the new combined test samples\n",
    "all_preds = model.predict(x=all_test_samples_tokens_pad)\n",
    "\n",
    "# Output predictions\n",
    "print(all_preds)\n"
   ]
  },
  {
   "cell_type": "markdown",
   "metadata": {
    "id": "SNAzrMg17W4P"
   },
   "source": [
    "The values close to 1 represents `positive` sentiment, and values close to 0 represents `negative` sentiment."
   ]
  }
 ],
 "metadata": {
  "colab": {
   "include_colab_link": true,
   "machine_shape": "hm",
   "provenance": []
  },
  "kernelspec": {
   "display_name": "Python 3 (ipykernel)",
   "language": "python",
   "name": "python3"
  },
  "language_info": {
   "codemirror_mode": {
    "name": "ipython",
    "version": 3
   },
   "file_extension": ".py",
   "mimetype": "text/x-python",
   "name": "python",
   "nbconvert_exporter": "python",
   "pygments_lexer": "ipython3",
   "version": "3.9.15"
  }
 },
 "nbformat": 4,
 "nbformat_minor": 1
}
